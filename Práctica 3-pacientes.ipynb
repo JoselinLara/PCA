{
 "cells": [
  {
   "cell_type": "code",
   "execution_count": 1,
   "metadata": {},
   "outputs": [
    {
     "name": "stderr",
     "output_type": "stream",
     "text": [
      "In C:\\Users\\hades\\Anaconda3\\lib\\site-packages\\matplotlib\\mpl-data\\stylelib\\_classic_test.mplstyle: \n",
      "The text.latex.unicode rcparam was deprecated in Matplotlib 3.0 and will be removed in 3.2.\n",
      "In C:\\Users\\hades\\Anaconda3\\lib\\site-packages\\matplotlib\\mpl-data\\stylelib\\_classic_test.mplstyle: \n",
      "The savefig.frameon rcparam was deprecated in Matplotlib 3.1 and will be removed in 3.3.\n",
      "In C:\\Users\\hades\\Anaconda3\\lib\\site-packages\\matplotlib\\mpl-data\\stylelib\\_classic_test.mplstyle: \n",
      "The pgf.debug rcparam was deprecated in Matplotlib 3.0 and will be removed in 3.2.\n",
      "In C:\\Users\\hades\\Anaconda3\\lib\\site-packages\\matplotlib\\mpl-data\\stylelib\\_classic_test.mplstyle: \n",
      "The verbose.level rcparam was deprecated in Matplotlib 3.1 and will be removed in 3.3.\n",
      "In C:\\Users\\hades\\Anaconda3\\lib\\site-packages\\matplotlib\\mpl-data\\stylelib\\_classic_test.mplstyle: \n",
      "The verbose.fileo rcparam was deprecated in Matplotlib 3.1 and will be removed in 3.3.\n"
     ]
    }
   ],
   "source": [
    "#importamos librerías\n",
    "import pandas as pd\n",
    "import numpy as np\n",
    "import matplotlib.pyplot as plt\n",
    "%matplotlib inline\n",
    "import seaborn as sns\n",
    "from sklearn.decomposition import PCA,KernelPCA\n",
    "from sklearn.preprocessing import StandardScaler\n",
    "from sklearn.model_selection import train_test_split\n",
    "from sklearn.datasets import fetch_mldata,make_circles\n",
    "from sklearn import metrics\n",
    "from sklearn.preprocessing import OneHotEncoder \n",
    "from sklearn.preprocessing import LabelEncoder "
   ]
  },
  {
   "cell_type": "code",
   "execution_count": 19,
   "metadata": {
    "scrolled": true
   },
   "outputs": [
    {
     "data": {
      "text/html": [
       "<div>\n",
       "<style scoped>\n",
       "    .dataframe tbody tr th:only-of-type {\n",
       "        vertical-align: middle;\n",
       "    }\n",
       "\n",
       "    .dataframe tbody tr th {\n",
       "        vertical-align: top;\n",
       "    }\n",
       "\n",
       "    .dataframe thead th {\n",
       "        text-align: right;\n",
       "    }\n",
       "</style>\n",
       "<table border=\"1\" class=\"dataframe\">\n",
       "  <thead>\n",
       "    <tr style=\"text-align: right;\">\n",
       "      <th></th>\n",
       "      <th>CODIGO_SEXO</th>\n",
       "      <th>GRUPO_SANGUINEO</th>\n",
       "      <th>RH</th>\n",
       "      <th>ORIGEN_INJERTO</th>\n",
       "      <th>ESTABLECIMIENTO</th>\n",
       "      <th>INSTITUCION</th>\n",
       "      <th>CODIGO_ENTIDAD_FEDERATIVA_ESTABLECIMIENTO</th>\n",
       "      <th>CODIGO_ENTIDAD_FEDERATIVA_ORIGEN_PACIENTE</th>\n",
       "      <th>CODIGO_ENTIDAD_FEDERATIVA_RESIDENCIA_PACIENTE</th>\n",
       "      <th>ORGANO</th>\n",
       "    </tr>\n",
       "  </thead>\n",
       "  <tbody>\n",
       "    <tr>\n",
       "      <th>0</th>\n",
       "      <td>2</td>\n",
       "      <td>O</td>\n",
       "      <td>POSITIVO</td>\n",
       "      <td>CADAVER</td>\n",
       "      <td>UNIDAD MEDICA DE ALTA ESPECIALIDAD HOSPITAL DE...</td>\n",
       "      <td>IMSS</td>\n",
       "      <td>14</td>\n",
       "      <td>99</td>\n",
       "      <td>99</td>\n",
       "      <td>RIÑÓN</td>\n",
       "    </tr>\n",
       "    <tr>\n",
       "      <th>1</th>\n",
       "      <td>1</td>\n",
       "      <td>O</td>\n",
       "      <td>POSITIVO</td>\n",
       "      <td>CADAVER</td>\n",
       "      <td>UNIDAD MEDICA DE ALTA ESPECIALIDAD HOSPITAL DE...</td>\n",
       "      <td>IMSS</td>\n",
       "      <td>14</td>\n",
       "      <td>99</td>\n",
       "      <td>99</td>\n",
       "      <td>RIÑÓN</td>\n",
       "    </tr>\n",
       "    <tr>\n",
       "      <th>2</th>\n",
       "      <td>2</td>\n",
       "      <td>O</td>\n",
       "      <td>NEGATIVO</td>\n",
       "      <td>CADAVER</td>\n",
       "      <td>UNIDAD MEDICA DE ALTA ESPECIALIDAD HOSPITAL DE...</td>\n",
       "      <td>IMSS</td>\n",
       "      <td>14</td>\n",
       "      <td>99</td>\n",
       "      <td>99</td>\n",
       "      <td>RIÑÓN</td>\n",
       "    </tr>\n",
       "    <tr>\n",
       "      <th>3</th>\n",
       "      <td>2</td>\n",
       "      <td>O</td>\n",
       "      <td>POSITIVO</td>\n",
       "      <td>CADAVER</td>\n",
       "      <td>UNIDAD MEDICA DE ALTA ESPECIALIDAD HOSPITAL DE...</td>\n",
       "      <td>IMSS</td>\n",
       "      <td>14</td>\n",
       "      <td>99</td>\n",
       "      <td>99</td>\n",
       "      <td>RIÑÓN</td>\n",
       "    </tr>\n",
       "    <tr>\n",
       "      <th>4</th>\n",
       "      <td>2</td>\n",
       "      <td>O</td>\n",
       "      <td>NEGATIVO</td>\n",
       "      <td>CADAVER</td>\n",
       "      <td>UNIDAD MEDICA DE ALTA ESPECIALIDAD HOSPITAL DE...</td>\n",
       "      <td>IMSS</td>\n",
       "      <td>14</td>\n",
       "      <td>99</td>\n",
       "      <td>99</td>\n",
       "      <td>RIÑÓN</td>\n",
       "    </tr>\n",
       "  </tbody>\n",
       "</table>\n",
       "</div>"
      ],
      "text/plain": [
       "   CODIGO_SEXO GRUPO_SANGUINEO        RH ORIGEN_INJERTO  \\\n",
       "0            2               O  POSITIVO        CADAVER   \n",
       "1            1               O  POSITIVO        CADAVER   \n",
       "2            2               O  NEGATIVO        CADAVER   \n",
       "3            2               O  POSITIVO        CADAVER   \n",
       "4            2               O  NEGATIVO        CADAVER   \n",
       "\n",
       "                                     ESTABLECIMIENTO INSTITUCION  \\\n",
       "0  UNIDAD MEDICA DE ALTA ESPECIALIDAD HOSPITAL DE...        IMSS   \n",
       "1  UNIDAD MEDICA DE ALTA ESPECIALIDAD HOSPITAL DE...        IMSS   \n",
       "2  UNIDAD MEDICA DE ALTA ESPECIALIDAD HOSPITAL DE...        IMSS   \n",
       "3  UNIDAD MEDICA DE ALTA ESPECIALIDAD HOSPITAL DE...        IMSS   \n",
       "4  UNIDAD MEDICA DE ALTA ESPECIALIDAD HOSPITAL DE...        IMSS   \n",
       "\n",
       "   CODIGO_ENTIDAD_FEDERATIVA_ESTABLECIMIENTO  \\\n",
       "0                                         14   \n",
       "1                                         14   \n",
       "2                                         14   \n",
       "3                                         14   \n",
       "4                                         14   \n",
       "\n",
       "   CODIGO_ENTIDAD_FEDERATIVA_ORIGEN_PACIENTE  \\\n",
       "0                                         99   \n",
       "1                                         99   \n",
       "2                                         99   \n",
       "3                                         99   \n",
       "4                                         99   \n",
       "\n",
       "   CODIGO_ENTIDAD_FEDERATIVA_RESIDENCIA_PACIENTE ORGANO  \n",
       "0                                             99  RIÑÓN  \n",
       "1                                             99  RIÑÓN  \n",
       "2                                             99  RIÑÓN  \n",
       "3                                             99  RIÑÓN  \n",
       "4                                             99  RIÑÓN  "
      ]
     },
     "execution_count": 19,
     "metadata": {},
     "output_type": "execute_result"
    }
   ],
   "source": [
    "#https://datos.gob.mx/busca/dataset/pacientes-en-espera-de-un-organo-o-tejido-al-31-de-diciembre-de-2019\n",
    "path = 'C:\\\\Users\\\\hades\\\\Downloads\\\\dataset práctica 1\\\\Pacientes_en_espera.csv'\n",
    "df = pd.read_csv(path, encoding='latin', error_bad_lines=False)\n",
    "data=df.copy()\n",
    "data.head()"
   ]
  },
  {
   "cell_type": "code",
   "execution_count": 3,
   "metadata": {},
   "outputs": [
    {
     "data": {
      "text/html": [
       "<div>\n",
       "<style scoped>\n",
       "    .dataframe tbody tr th:only-of-type {\n",
       "        vertical-align: middle;\n",
       "    }\n",
       "\n",
       "    .dataframe tbody tr th {\n",
       "        vertical-align: top;\n",
       "    }\n",
       "\n",
       "    .dataframe thead th {\n",
       "        text-align: right;\n",
       "    }\n",
       "</style>\n",
       "<table border=\"1\" class=\"dataframe\">\n",
       "  <thead>\n",
       "    <tr style=\"text-align: right;\">\n",
       "      <th></th>\n",
       "      <th>CODIGO_SEXO</th>\n",
       "      <th>GRUPO_SANGUINEO</th>\n",
       "      <th>RH</th>\n",
       "      <th>ORIGEN_INJERTO</th>\n",
       "      <th>ESTABLECIMIENTO</th>\n",
       "      <th>INSTITUCION</th>\n",
       "      <th>CODIGO_ENTIDAD_FEDERATIVA_ESTABLECIMIENTO</th>\n",
       "      <th>CODIGO_ENTIDAD_FEDERATIVA_ORIGEN_PACIENTE</th>\n",
       "      <th>CODIGO_ENTIDAD_FEDERATIVA_RESIDENCIA_PACIENTE</th>\n",
       "      <th>ORGANO</th>\n",
       "    </tr>\n",
       "  </thead>\n",
       "  <tbody>\n",
       "    <tr>\n",
       "      <th>0</th>\n",
       "      <td>2</td>\n",
       "      <td>9</td>\n",
       "      <td>4</td>\n",
       "      <td>0</td>\n",
       "      <td>266</td>\n",
       "      <td>0</td>\n",
       "      <td>14</td>\n",
       "      <td>99</td>\n",
       "      <td>99</td>\n",
       "      <td>RIÑÓN</td>\n",
       "    </tr>\n",
       "    <tr>\n",
       "      <th>1</th>\n",
       "      <td>1</td>\n",
       "      <td>9</td>\n",
       "      <td>4</td>\n",
       "      <td>0</td>\n",
       "      <td>266</td>\n",
       "      <td>0</td>\n",
       "      <td>14</td>\n",
       "      <td>99</td>\n",
       "      <td>99</td>\n",
       "      <td>RIÑÓN</td>\n",
       "    </tr>\n",
       "    <tr>\n",
       "      <th>2</th>\n",
       "      <td>2</td>\n",
       "      <td>9</td>\n",
       "      <td>1</td>\n",
       "      <td>0</td>\n",
       "      <td>266</td>\n",
       "      <td>0</td>\n",
       "      <td>14</td>\n",
       "      <td>99</td>\n",
       "      <td>99</td>\n",
       "      <td>RIÑÓN</td>\n",
       "    </tr>\n",
       "    <tr>\n",
       "      <th>3</th>\n",
       "      <td>2</td>\n",
       "      <td>9</td>\n",
       "      <td>4</td>\n",
       "      <td>0</td>\n",
       "      <td>266</td>\n",
       "      <td>0</td>\n",
       "      <td>14</td>\n",
       "      <td>99</td>\n",
       "      <td>99</td>\n",
       "      <td>RIÑÓN</td>\n",
       "    </tr>\n",
       "    <tr>\n",
       "      <th>4</th>\n",
       "      <td>2</td>\n",
       "      <td>9</td>\n",
       "      <td>1</td>\n",
       "      <td>0</td>\n",
       "      <td>266</td>\n",
       "      <td>0</td>\n",
       "      <td>14</td>\n",
       "      <td>99</td>\n",
       "      <td>99</td>\n",
       "      <td>RIÑÓN</td>\n",
       "    </tr>\n",
       "  </tbody>\n",
       "</table>\n",
       "</div>"
      ],
      "text/plain": [
       "   CODIGO_SEXO  GRUPO_SANGUINEO  RH  ORIGEN_INJERTO  ESTABLECIMIENTO  \\\n",
       "0            2                9   4               0              266   \n",
       "1            1                9   4               0              266   \n",
       "2            2                9   1               0              266   \n",
       "3            2                9   4               0              266   \n",
       "4            2                9   1               0              266   \n",
       "\n",
       "   INSTITUCION  CODIGO_ENTIDAD_FEDERATIVA_ESTABLECIMIENTO  \\\n",
       "0            0                                         14   \n",
       "1            0                                         14   \n",
       "2            0                                         14   \n",
       "3            0                                         14   \n",
       "4            0                                         14   \n",
       "\n",
       "   CODIGO_ENTIDAD_FEDERATIVA_ORIGEN_PACIENTE  \\\n",
       "0                                         99   \n",
       "1                                         99   \n",
       "2                                         99   \n",
       "3                                         99   \n",
       "4                                         99   \n",
       "\n",
       "   CODIGO_ENTIDAD_FEDERATIVA_RESIDENCIA_PACIENTE ORGANO  \n",
       "0                                             99  RIÑÓN  \n",
       "1                                             99  RIÑÓN  \n",
       "2                                             99  RIÑÓN  \n",
       "3                                             99  RIÑÓN  \n",
       "4                                             99  RIÑÓN  "
      ]
     },
     "execution_count": 3,
     "metadata": {},
     "output_type": "execute_result"
    }
   ],
   "source": [
    "le = LabelEncoder() \n",
    "data['RH']= le.fit_transform(data['RH'])\n",
    "#daf['ORGANO']= le.fit_transform(daf['ORGANO'])\n",
    "data['ESTABLECIMIENTO']= le.fit_transform(data['ESTABLECIMIENTO'])\n",
    "data['INSTITUCION']= le.fit_transform(data['INSTITUCION'])\n",
    "data['GRUPO_SANGUINEO']= le.fit_transform(data['GRUPO_SANGUINEO'])\n",
    "data['ORIGEN_INJERTO']= le.fit_transform(data['ORIGEN_INJERTO'])\n",
    "data.head()"
   ]
  },
  {
   "cell_type": "code",
   "execution_count": 5,
   "metadata": {},
   "outputs": [
    {
     "data": {
      "text/html": [
       "<div>\n",
       "<style scoped>\n",
       "    .dataframe tbody tr th:only-of-type {\n",
       "        vertical-align: middle;\n",
       "    }\n",
       "\n",
       "    .dataframe tbody tr th {\n",
       "        vertical-align: top;\n",
       "    }\n",
       "\n",
       "    .dataframe thead th {\n",
       "        text-align: right;\n",
       "    }\n",
       "</style>\n",
       "<table border=\"1\" class=\"dataframe\">\n",
       "  <thead>\n",
       "    <tr style=\"text-align: right;\">\n",
       "      <th></th>\n",
       "      <th>CODIGO_SEXO</th>\n",
       "      <th>GRUPO_SANGUINEO</th>\n",
       "      <th>RH</th>\n",
       "      <th>ORIGEN_INJERTO</th>\n",
       "      <th>ESTABLECIMIENTO</th>\n",
       "      <th>INSTITUCION</th>\n",
       "      <th>CODIGO_ENTIDAD_FEDERATIVA_ESTABLECIMIENTO</th>\n",
       "      <th>CODIGO_ENTIDAD_FEDERATIVA_ORIGEN_PACIENTE</th>\n",
       "      <th>CODIGO_ENTIDAD_FEDERATIVA_RESIDENCIA_PACIENTE</th>\n",
       "    </tr>\n",
       "  </thead>\n",
       "  <tbody>\n",
       "    <tr>\n",
       "      <th>0</th>\n",
       "      <td>1.180684</td>\n",
       "      <td>0.618776</td>\n",
       "      <td>0.442866</td>\n",
       "      <td>-0.17673</td>\n",
       "      <td>0.801883</td>\n",
       "      <td>-0.577772</td>\n",
       "      <td>0.107776</td>\n",
       "      <td>5.331905</td>\n",
       "      <td>5.757903</td>\n",
       "    </tr>\n",
       "    <tr>\n",
       "      <th>1</th>\n",
       "      <td>-0.846967</td>\n",
       "      <td>0.618776</td>\n",
       "      <td>0.442866</td>\n",
       "      <td>-0.17673</td>\n",
       "      <td>0.801883</td>\n",
       "      <td>-0.577772</td>\n",
       "      <td>0.107776</td>\n",
       "      <td>5.331905</td>\n",
       "      <td>5.757903</td>\n",
       "    </tr>\n",
       "    <tr>\n",
       "      <th>2</th>\n",
       "      <td>1.180684</td>\n",
       "      <td>0.618776</td>\n",
       "      <td>-2.610022</td>\n",
       "      <td>-0.17673</td>\n",
       "      <td>0.801883</td>\n",
       "      <td>-0.577772</td>\n",
       "      <td>0.107776</td>\n",
       "      <td>5.331905</td>\n",
       "      <td>5.757903</td>\n",
       "    </tr>\n",
       "    <tr>\n",
       "      <th>3</th>\n",
       "      <td>1.180684</td>\n",
       "      <td>0.618776</td>\n",
       "      <td>0.442866</td>\n",
       "      <td>-0.17673</td>\n",
       "      <td>0.801883</td>\n",
       "      <td>-0.577772</td>\n",
       "      <td>0.107776</td>\n",
       "      <td>5.331905</td>\n",
       "      <td>5.757903</td>\n",
       "    </tr>\n",
       "    <tr>\n",
       "      <th>4</th>\n",
       "      <td>1.180684</td>\n",
       "      <td>0.618776</td>\n",
       "      <td>-2.610022</td>\n",
       "      <td>-0.17673</td>\n",
       "      <td>0.801883</td>\n",
       "      <td>-0.577772</td>\n",
       "      <td>0.107776</td>\n",
       "      <td>5.331905</td>\n",
       "      <td>5.757903</td>\n",
       "    </tr>\n",
       "  </tbody>\n",
       "</table>\n",
       "</div>"
      ],
      "text/plain": [
       "   CODIGO_SEXO  GRUPO_SANGUINEO        RH  ORIGEN_INJERTO  ESTABLECIMIENTO  \\\n",
       "0     1.180684         0.618776  0.442866        -0.17673         0.801883   \n",
       "1    -0.846967         0.618776  0.442866        -0.17673         0.801883   \n",
       "2     1.180684         0.618776 -2.610022        -0.17673         0.801883   \n",
       "3     1.180684         0.618776  0.442866        -0.17673         0.801883   \n",
       "4     1.180684         0.618776 -2.610022        -0.17673         0.801883   \n",
       "\n",
       "   INSTITUCION  CODIGO_ENTIDAD_FEDERATIVA_ESTABLECIMIENTO  \\\n",
       "0    -0.577772                                   0.107776   \n",
       "1    -0.577772                                   0.107776   \n",
       "2    -0.577772                                   0.107776   \n",
       "3    -0.577772                                   0.107776   \n",
       "4    -0.577772                                   0.107776   \n",
       "\n",
       "   CODIGO_ENTIDAD_FEDERATIVA_ORIGEN_PACIENTE  \\\n",
       "0                                   5.331905   \n",
       "1                                   5.331905   \n",
       "2                                   5.331905   \n",
       "3                                   5.331905   \n",
       "4                                   5.331905   \n",
       "\n",
       "   CODIGO_ENTIDAD_FEDERATIVA_RESIDENCIA_PACIENTE  \n",
       "0                                       5.757903  \n",
       "1                                       5.757903  \n",
       "2                                       5.757903  \n",
       "3                                       5.757903  \n",
       "4                                       5.757903  "
      ]
     },
     "execution_count": 5,
     "metadata": {},
     "output_type": "execute_result"
    }
   ],
   "source": [
    "col=data.columns#toma las  columnas\n",
    "features=col.tolist() \n",
    "feature=features[:-1] \n",
    "target=features[-1]#quita Resultados\n",
    "X=data.loc[:,feature].values  \n",
    "y=data.loc[:,target].values\n",
    "#estandarizado\n",
    "sc=StandardScaler()  \n",
    "X=sc.fit_transform(X) \n",
    "pd.DataFrame(X,columns=feature).head()\n"
   ]
  },
  {
   "cell_type": "code",
   "execution_count": null,
   "metadata": {},
   "outputs": [],
   "source": []
  },
  {
   "cell_type": "code",
   "execution_count": 6,
   "metadata": {},
   "outputs": [
    {
     "data": {
      "text/html": [
       "<div>\n",
       "<style scoped>\n",
       "    .dataframe tbody tr th:only-of-type {\n",
       "        vertical-align: middle;\n",
       "    }\n",
       "\n",
       "    .dataframe tbody tr th {\n",
       "        vertical-align: top;\n",
       "    }\n",
       "\n",
       "    .dataframe thead th {\n",
       "        text-align: right;\n",
       "    }\n",
       "</style>\n",
       "<table border=\"1\" class=\"dataframe\">\n",
       "  <thead>\n",
       "    <tr style=\"text-align: right;\">\n",
       "      <th></th>\n",
       "      <th>principal component 1</th>\n",
       "      <th>principal component 2</th>\n",
       "    </tr>\n",
       "  </thead>\n",
       "  <tbody>\n",
       "    <tr>\n",
       "      <th>0</th>\n",
       "      <td>6.871178</td>\n",
       "      <td>3.218974</td>\n",
       "    </tr>\n",
       "    <tr>\n",
       "      <th>1</th>\n",
       "      <td>6.873492</td>\n",
       "      <td>3.028562</td>\n",
       "    </tr>\n",
       "    <tr>\n",
       "      <th>2</th>\n",
       "      <td>6.584485</td>\n",
       "      <td>4.341075</td>\n",
       "    </tr>\n",
       "    <tr>\n",
       "      <th>3</th>\n",
       "      <td>6.871178</td>\n",
       "      <td>3.218974</td>\n",
       "    </tr>\n",
       "    <tr>\n",
       "      <th>4</th>\n",
       "      <td>6.584485</td>\n",
       "      <td>4.341075</td>\n",
       "    </tr>\n",
       "  </tbody>\n",
       "</table>\n",
       "</div>"
      ],
      "text/plain": [
       "   principal component 1  principal component 2\n",
       "0               6.871178               3.218974\n",
       "1               6.873492               3.028562\n",
       "2               6.584485               4.341075\n",
       "3               6.871178               3.218974\n",
       "4               6.584485               4.341075"
      ]
     },
     "execution_count": 6,
     "metadata": {},
     "output_type": "execute_result"
    }
   ],
   "source": [
    "#Definiendo componentes \n",
    "pca=PCA(n_components=2) \n",
    "principalComponents=pca.fit_transform(X) \n",
    "principalDf=pd.DataFrame(data=principalComponents,columns=['principal component 1','principal component 2']) \n",
    "principalDf.head()"
   ]
  },
  {
   "cell_type": "code",
   "execution_count": 7,
   "metadata": {},
   "outputs": [
    {
     "data": {
      "text/html": [
       "<div>\n",
       "<style scoped>\n",
       "    .dataframe tbody tr th:only-of-type {\n",
       "        vertical-align: middle;\n",
       "    }\n",
       "\n",
       "    .dataframe tbody tr th {\n",
       "        vertical-align: top;\n",
       "    }\n",
       "\n",
       "    .dataframe thead th {\n",
       "        text-align: right;\n",
       "    }\n",
       "</style>\n",
       "<table border=\"1\" class=\"dataframe\">\n",
       "  <thead>\n",
       "    <tr style=\"text-align: right;\">\n",
       "      <th></th>\n",
       "      <th>principal component 1</th>\n",
       "      <th>principal component 2</th>\n",
       "      <th>ORGANO</th>\n",
       "    </tr>\n",
       "  </thead>\n",
       "  <tbody>\n",
       "    <tr>\n",
       "      <th>0</th>\n",
       "      <td>6.871178</td>\n",
       "      <td>3.218974</td>\n",
       "      <td>RIÑÓN</td>\n",
       "    </tr>\n",
       "    <tr>\n",
       "      <th>1</th>\n",
       "      <td>6.873492</td>\n",
       "      <td>3.028562</td>\n",
       "      <td>RIÑÓN</td>\n",
       "    </tr>\n",
       "    <tr>\n",
       "      <th>2</th>\n",
       "      <td>6.584485</td>\n",
       "      <td>4.341075</td>\n",
       "      <td>RIÑÓN</td>\n",
       "    </tr>\n",
       "    <tr>\n",
       "      <th>3</th>\n",
       "      <td>6.871178</td>\n",
       "      <td>3.218974</td>\n",
       "      <td>RIÑÓN</td>\n",
       "    </tr>\n",
       "    <tr>\n",
       "      <th>4</th>\n",
       "      <td>6.584485</td>\n",
       "      <td>4.341075</td>\n",
       "      <td>RIÑÓN</td>\n",
       "    </tr>\n",
       "  </tbody>\n",
       "</table>\n",
       "</div>"
      ],
      "text/plain": [
       "   principal component 1  principal component 2 ORGANO\n",
       "0               6.871178               3.218974  RIÑÓN\n",
       "1               6.873492               3.028562  RIÑÓN\n",
       "2               6.584485               4.341075  RIÑÓN\n",
       "3               6.871178               3.218974  RIÑÓN\n",
       "4               6.584485               4.341075  RIÑÓN"
      ]
     },
     "execution_count": 7,
     "metadata": {},
     "output_type": "execute_result"
    }
   ],
   "source": [
    "finalDf=pd.concat([principalDf,data[['ORGANO']]],axis=1)\n",
    "finalDf.head()"
   ]
  },
  {
   "cell_type": "code",
   "execution_count": 8,
   "metadata": {},
   "outputs": [
    {
     "data": {
      "text/plain": [
       "array(['RIÑÓN', 'CÓRNEA', 'HÍGADO', 'C.P.H.', 'CORAZÓN', 'PARATIROIDES',\n",
       "       'RIÑÓN-RIÑÓN', 'MANO', 'EXTREMIDADES', 'BANCO CORNEAS',\n",
       "       'RIÑÓN-PÁNCREAS', 'PÁNCREAS', 'HÍGADO-RIÑÓN', 'CORAZÓN-PULMÓN',\n",
       "       'PIEL', 'CARA', 'PULMÓN'], dtype=object)"
      ]
     },
     "execution_count": 8,
     "metadata": {},
     "output_type": "execute_result"
    }
   ],
   "source": [
    "data.ORGANO.unique()"
   ]
  },
  {
   "cell_type": "code",
   "execution_count": 9,
   "metadata": {},
   "outputs": [
    {
     "name": "stdout",
     "output_type": "stream",
     "text": [
      "X_train shape (18621, 9)\n",
      "X_test shape (4656, 9)\n",
      "y_train shape (18621,)\n",
      "y_test shape (4656,)\n"
     ]
    }
   ],
   "source": [
    "X_train,X_test,y_train,y_test=train_test_split(X,y,test_size=.2,random_state=0)\n",
    "print('X_train shape',X_train.shape)  \n",
    "print('X_test shape',X_test.shape)   \n",
    "print('y_train shape',y_train.shape)  \n",
    "print('y_test shape',y_test.shape)"
   ]
  },
  {
   "cell_type": "code",
   "execution_count": 10,
   "metadata": {},
   "outputs": [],
   "source": [
    "X_train_original=X_train.copy()"
   ]
  },
  {
   "cell_type": "code",
   "execution_count": 11,
   "metadata": {},
   "outputs": [],
   "source": [
    "\n",
    "#fit only on Training data  \n",
    "sc.fit(X_train)   \n",
    "#Apply the transformation to both test & train data   \n",
    "X_train=sc.fit_transform(X_train)   \n",
    "X_test=sc.fit_transform(X_test)"
   ]
  },
  {
   "cell_type": "code",
   "execution_count": 12,
   "metadata": {},
   "outputs": [
    {
     "data": {
      "image/png": "[encoded data removed]",
      "text/plain": [
       "<Figure size 432x288 with 1 Axes>"
      ]
     },
     "metadata": {
      "needs_background": "light"
     },
     "output_type": "display_data"
    }
   ],
   "source": [
    "pca=PCA()  \n",
    "pca.n_components=9\n",
    "pca_data=pca.fit_transform(X_train)\n",
    "percentage_var_explained = pca.explained_variance_ratio_;  \n",
    "cum_var_explained=np.cumsum(percentage_var_explained)\n",
    "#plot PCA spectrum   \n",
    "plt.figure(1,figsize=(6,4))\n",
    "plt.clf()  \n",
    "plt.plot(cum_var_explained,linewidth=2)  \n",
    "plt.axis('tight')  \n",
    "plt.grid() \n",
    "plt.xlabel('n_components') \n",
    "plt.ylabel('Cumulative_Variance_explained')  \n",
    "plt.show()"
   ]
  },
  {
   "cell_type": "code",
   "execution_count": 13,
   "metadata": {},
   "outputs": [
    {
     "name": "stdout",
     "output_type": "stream",
     "text": [
      "if n_components= 0,   variance=23.530000\n",
      "if n_components= 1,   variance=41.810000\n",
      "if n_components= 2,   variance=53.190000\n",
      "if n_components= 3,   variance=64.300000\n",
      "if n_components= 4,   variance=75.240000\n",
      "if n_components= 5,   variance=85.550000\n",
      "if n_components= 6,   variance=94.650000\n",
      "if n_components= 7,   variance=98.760000\n",
      "if n_components= 8,   variance=100.000000\n"
     ]
    }
   ],
   "source": [
    "pca=PCA()  \n",
    "pca.n_components=9\n",
    "pca_data=pca.fit_transform(X_train)  \n",
    "# look at explainded variance of PCA components \n",
    "exp_var_cumsum=pd.Series(np.round(pca.explained_variance_ratio_.cumsum(),4)*100)  \n",
    "for index,var in enumerate(exp_var_cumsum):  \n",
    "    print('if n_components= %d,   variance=%f' %(index,np.round(var,3)))"
   ]
  },
  {
   "cell_type": "code",
   "execution_count": 14,
   "metadata": {},
   "outputs": [
    {
     "name": "stdout",
     "output_type": "stream",
     "text": [
      "Number of components to explain 90% Variance is 7\n"
     ]
    }
   ],
   "source": [
    "pca=PCA(.90)  \n",
    "pca.fit(X_train)  \n",
    "print('Number of components to explain 90% Variance is',pca.n_components_)"
   ]
  },
  {
   "cell_type": "code",
   "execution_count": 15,
   "metadata": {
    "scrolled": true
   },
   "outputs": [
    {
     "name": "stdout",
     "output_type": "stream",
     "text": [
      "shape of PCA data (18621, 2)\n"
     ]
    }
   ],
   "source": [
    "pca=PCA(n_components=2) \n",
    "pca_data_vis=pca.fit_transform(X_train) \n",
    "print('shape of PCA data',pca_data_vis.shape)"
   ]
  },
  {
   "cell_type": "code",
   "execution_count": 16,
   "metadata": {},
   "outputs": [
    {
     "name": "stderr",
     "output_type": "stream",
     "text": [
      "C:\\Users\\hades\\Anaconda3\\lib\\site-packages\\seaborn\\axisgrid.py:230: UserWarning: The `size` paramter has been renamed to `height`; please update your code.\n",
      "  warnings.warn(msg, UserWarning)\n"
     ]
    },
    {
     "data": {
      "image/png": "[encoded data removed]",
      "text/plain": [
       "<Figure size 564.5x432 with 1 Axes>"
      ]
     },
     "metadata": {
      "needs_background": "light"
     },
     "output_type": "display_data"
    }
   ],
   "source": [
    "pca_data_vis = np.vstack((pca_data_vis.T,y_train)).T\n",
    "pca_vis_df = pd.DataFrame(data=pca_data_vis,columns=(\"1st_principal\",\"2nd_principal\",\"label\"))  \n",
    "sns.FacetGrid(pca_vis_df,hue=\"label\",size=6).map(plt.scatter,'1st_principal','2nd_principal').add_legend()\n",
    "plt.show()"
   ]
  },
  {
   "cell_type": "code",
   "execution_count": 17,
   "metadata": {},
   "outputs": [
    {
     "name": "stderr",
     "output_type": "stream",
     "text": [
      "C:\\Users\\hades\\Anaconda3\\lib\\site-packages\\sklearn\\linear_model\\logistic.py:432: FutureWarning: Default solver will be changed to 'lbfgs' in 0.22. Specify a solver to silence this warning.\n",
      "  FutureWarning)\n",
      "C:\\Users\\hades\\Anaconda3\\lib\\site-packages\\sklearn\\linear_model\\logistic.py:469: FutureWarning: Default multi_class will be changed to 'auto' in 0.22. Specify the multi_class option to silence this warning.\n",
      "  \"this warning.\", FutureWarning)\n"
     ]
    }
   ],
   "source": [
    "pca=PCA(.90) \n",
    "pca.fit(X_train) \n",
    "X_train=pca.transform(X_train) \n",
    "X_test=pca.transform(X_test)\n",
    "from sklearn.linear_model  import LogisticRegression  \n",
    "LogReg=LogisticRegression(class_weight='balanced')  \n",
    "LogReg.fit(X_train,y_train)\n",
    "y_pred=LogReg.predict(X_test)"
   ]
  },
  {
   "cell_type": "code",
   "execution_count": 18,
   "metadata": {},
   "outputs": [
    {
     "name": "stdout",
     "output_type": "stream",
     "text": [
      "Accuracy: 0.7502147766323024\n",
      "F1 score: 0.8126629838538545\n",
      "Recall: 0.7502147766323024\n",
      "Precision: 0.896086798516789\n"
     ]
    },
    {
     "name": "stderr",
     "output_type": "stream",
     "text": [
      "C:\\Users\\hades\\Anaconda3\\lib\\site-packages\\sklearn\\metrics\\classification.py:1439: UndefinedMetricWarning: F-score is ill-defined and being set to 0.0 in labels with no true samples.\n",
      "  'recall', 'true', average, warn_for)\n",
      "C:\\Users\\hades\\Anaconda3\\lib\\site-packages\\sklearn\\metrics\\classification.py:1439: UndefinedMetricWarning: Recall is ill-defined and being set to 0.0 in labels with no true samples.\n",
      "  'recall', 'true', average, warn_for)\n",
      "C:\\Users\\hades\\Anaconda3\\lib\\site-packages\\sklearn\\metrics\\classification.py:1439: UndefinedMetricWarning: Recall and F-score are ill-defined and being set to 0.0 in labels with no true samples.\n",
      "  'recall', 'true', average, warn_for)\n"
     ]
    },
    {
     "name": "stdout",
     "output_type": "stream",
     "text": [
      "\n",
      " clasification report:\n",
      "                 precision    recall  f1-score   support\n",
      "\n",
      " BANCO CORNEAS       0.00      0.00      0.00         0\n",
      "        C.P.H.       0.25      0.82      0.38        17\n",
      "          CARA       0.00      0.00      0.00         0\n",
      "       CORAZÓN       0.00      0.00      0.00        13\n",
      "CORAZÓN-PULMÓN       0.00      0.00      0.00         0\n",
      "        CÓRNEA       0.87      0.57      0.69      1128\n",
      "  EXTREMIDADES       0.00      0.00      0.00         0\n",
      "        HÍGADO       0.14      0.12      0.13        52\n",
      "  HÍGADO-RIÑÓN       0.00      0.00      0.00         0\n",
      "  PARATIROIDES       0.31      1.00      0.47         4\n",
      "          PIEL       0.00      0.00      0.00         0\n",
      "        PULMÓN       0.00      0.00      0.00         0\n",
      "      PÁNCREAS       0.00      0.00      0.00         1\n",
      "         RIÑÓN       0.92      0.82      0.87      3441\n",
      "RIÑÓN-PÁNCREAS       0.00      0.00      0.00         0\n",
      "\n",
      "      accuracy                           0.75      4656\n",
      "     macro avg       0.17      0.22      0.17      4656\n",
      "  weighted avg       0.90      0.75      0.81      4656\n",
      "\n",
      "\n",
      " confussion matrix:\n",
      " [[   0    0    0    0    0    0    0    0    0    0    0    0    0    0\n",
      "     0]\n",
      " [   0   14    0    0    0    0    0    0    0    0    0    0    0    3\n",
      "     0]\n",
      " [   0    0    0    0    0    0    0    0    0    0    0    0    0    0\n",
      "     0]\n",
      " [   0    0    1    0    1    2    0    0    2    0    0    1    1    5\n",
      "     0]\n",
      " [   0    0    0    0    0    0    0    0    0    0    0    0    0    0\n",
      "     0]\n",
      " [  63    0   71    3   40  644    2    5   28    0    4   26   29  203\n",
      "    10]\n",
      " [   0    0    0    0    0    0    0    0    0    0    0    0    0    0\n",
      "     0]\n",
      " [   4    0    3    0    0    3    0    6    3    0    0    1    1   23\n",
      "     8]\n",
      " [   0    0    0    0    0    0    0    0    0    0    0    0    0    0\n",
      "     0]\n",
      " [   0    0    0    0    0    0    0    0    0    4    0    0    0    0\n",
      "     0]\n",
      " [   0    0    0    0    0    0    0    0    0    0    0    0    0    0\n",
      "     0]\n",
      " [   0    0    0    0    0    0    0    0    0    0    0    0    0    0\n",
      "     0]\n",
      " [   0    0    0    0    0    0    0    0    0    0    0    1    0    0\n",
      "     0]\n",
      " [  42   42  120   25   13   91    5   32   53    9   54   43   31 2825\n",
      "    56]\n",
      " [   0    0    0    0    0    0    0    0    0    0    0    0    0    0\n",
      "     0]]\n"
     ]
    }
   ],
   "source": [
    "from sklearn.metrics import precision_score,recall_score,confusion_matrix,classification_report,accuracy_score,f1_score\n",
    "print('Accuracy:',accuracy_score(y_test,y_pred))  \n",
    "print('F1 score:',f1_score(y_test,y_pred,average='weighted'))   \n",
    "print('Recall:',recall_score(y_test,y_pred,average='weighted'))   \n",
    "print('Precision:',precision_score(y_test,y_pred,average='weighted'))  \n",
    "print('\\n clasification report:\\n',classification_report(y_test,y_pred))  \n",
    "print('\\n confussion matrix:\\n',confusion_matrix(y_test,y_pred))"
   ]
  },
  {
   "cell_type": "code",
   "execution_count": null,
   "metadata": {},
   "outputs": [],
   "source": []
  }
 ],
 "metadata": {
  "kernelspec": {
   "display_name": "Python 3",
   "language": "python",
   "name": "python3"
  },
  "language_info": {
   "codemirror_mode": {
    "name": "ipython",
    "version": 3
   },
   "file_extension": ".py",
   "mimetype": "text/x-python",
   "name": "python",
   "nbconvert_exporter": "python",
   "pygments_lexer": "ipython3",
   "version": "3.7.1"
  }
 },
 "nbformat": 4,
 "nbformat_minor": 4
}
