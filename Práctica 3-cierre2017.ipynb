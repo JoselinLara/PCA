{
 "cells": [
  {
   "cell_type": "code",
   "execution_count": 2,
   "metadata": {},
   "outputs": [
    {
     "name": "stderr",
     "output_type": "stream",
     "text": [
      "In C:\\Users\\hades\\Anaconda3\\lib\\site-packages\\matplotlib\\mpl-data\\stylelib\\_classic_test.mplstyle: \n",
      "The text.latex.unicode rcparam was deprecated in Matplotlib 3.0 and will be removed in 3.2.\n",
      "In C:\\Users\\hades\\Anaconda3\\lib\\site-packages\\matplotlib\\mpl-data\\stylelib\\_classic_test.mplstyle: \n",
      "The savefig.frameon rcparam was deprecated in Matplotlib 3.1 and will be removed in 3.3.\n",
      "In C:\\Users\\hades\\Anaconda3\\lib\\site-packages\\matplotlib\\mpl-data\\stylelib\\_classic_test.mplstyle: \n",
      "The pgf.debug rcparam was deprecated in Matplotlib 3.0 and will be removed in 3.2.\n",
      "In C:\\Users\\hades\\Anaconda3\\lib\\site-packages\\matplotlib\\mpl-data\\stylelib\\_classic_test.mplstyle: \n",
      "The verbose.level rcparam was deprecated in Matplotlib 3.1 and will be removed in 3.3.\n",
      "In C:\\Users\\hades\\Anaconda3\\lib\\site-packages\\matplotlib\\mpl-data\\stylelib\\_classic_test.mplstyle: \n",
      "The verbose.fileo rcparam was deprecated in Matplotlib 3.1 and will be removed in 3.3.\n"
     ]
    }
   ],
   "source": [
    "#importamos librerías\n",
    "import pandas as pd\n",
    "import numpy as np\n",
    "import matplotlib.pyplot as plt\n",
    "%matplotlib inline\n",
    "import seaborn as sns\n",
    "from sklearn.decomposition import PCA,KernelPCA\n",
    "from sklearn.preprocessing import StandardScaler\n",
    "from sklearn.model_selection import train_test_split\n",
    "from sklearn.datasets import fetch_mldata,make_circles\n",
    "from sklearn import metrics\n",
    "from sklearn.preprocessing import OneHotEncoder \n",
    "from sklearn.preprocessing import LabelEncoder "
   ]
  },
  {
   "cell_type": "code",
   "execution_count": 14,
   "metadata": {
    "scrolled": true
   },
   "outputs": [
    {
     "data": {
      "text/html": [
       "<div>\n",
       "<style scoped>\n",
       "    .dataframe tbody tr th:only-of-type {\n",
       "        vertical-align: middle;\n",
       "    }\n",
       "\n",
       "    .dataframe tbody tr th {\n",
       "        vertical-align: top;\n",
       "    }\n",
       "\n",
       "    .dataframe thead th {\n",
       "        text-align: right;\n",
       "    }\n",
       "</style>\n",
       "<table border=\"1\" class=\"dataframe\">\n",
       "  <thead>\n",
       "    <tr style=\"text-align: right;\">\n",
       "      <th></th>\n",
       "      <th>Anio</th>\n",
       "      <th>Cveestado</th>\n",
       "      <th>Cveddr</th>\n",
       "      <th>Cvempio</th>\n",
       "      <th>Cveespecie</th>\n",
       "      <th>Volumen</th>\n",
       "      <th>Peso</th>\n",
       "      <th>Precio</th>\n",
       "      <th>Valor</th>\n",
       "      <th>Asacrificado</th>\n",
       "      <th>Nomproducto</th>\n",
       "    </tr>\n",
       "  </thead>\n",
       "  <tbody>\n",
       "    <tr>\n",
       "      <th>0</th>\n",
       "      <td>2017</td>\n",
       "      <td>1</td>\n",
       "      <td>1</td>\n",
       "      <td>1</td>\n",
       "      <td>1</td>\n",
       "      <td>310.521</td>\n",
       "      <td>0.000</td>\n",
       "      <td>45.60</td>\n",
       "      <td>14160.036</td>\n",
       "      <td>0</td>\n",
       "      <td>Miel</td>\n",
       "    </tr>\n",
       "    <tr>\n",
       "      <th>1</th>\n",
       "      <td>2017</td>\n",
       "      <td>1</td>\n",
       "      <td>1</td>\n",
       "      <td>1</td>\n",
       "      <td>3</td>\n",
       "      <td>99912.530</td>\n",
       "      <td>1.776</td>\n",
       "      <td>28.03</td>\n",
       "      <td>2800597.573</td>\n",
       "      <td>56247778</td>\n",
       "      <td>Carne</td>\n",
       "    </tr>\n",
       "    <tr>\n",
       "      <th>2</th>\n",
       "      <td>2017</td>\n",
       "      <td>1</td>\n",
       "      <td>1</td>\n",
       "      <td>1</td>\n",
       "      <td>3</td>\n",
       "      <td>126951.235</td>\n",
       "      <td>2.257</td>\n",
       "      <td>19.60</td>\n",
       "      <td>2488734.489</td>\n",
       "      <td>0</td>\n",
       "      <td>Ganado en pie</td>\n",
       "    </tr>\n",
       "    <tr>\n",
       "      <th>3</th>\n",
       "      <td>2017</td>\n",
       "      <td>1</td>\n",
       "      <td>1</td>\n",
       "      <td>1</td>\n",
       "      <td>3</td>\n",
       "      <td>2769.820</td>\n",
       "      <td>0.000</td>\n",
       "      <td>20.02</td>\n",
       "      <td>55451.796</td>\n",
       "      <td>0</td>\n",
       "      <td>Huevo-plato</td>\n",
       "    </tr>\n",
       "    <tr>\n",
       "      <th>4</th>\n",
       "      <td>2017</td>\n",
       "      <td>1</td>\n",
       "      <td>1</td>\n",
       "      <td>1</td>\n",
       "      <td>4</td>\n",
       "      <td>9036.628</td>\n",
       "      <td>251.492</td>\n",
       "      <td>72.33</td>\n",
       "      <td>653577.630</td>\n",
       "      <td>35932</td>\n",
       "      <td>Carne</td>\n",
       "    </tr>\n",
       "  </tbody>\n",
       "</table>\n",
       "</div>"
      ],
      "text/plain": [
       "   Anio  Cveestado  Cveddr  Cvempio  Cveespecie     Volumen     Peso  Precio  \\\n",
       "0  2017          1       1        1           1     310.521    0.000   45.60   \n",
       "1  2017          1       1        1           3   99912.530    1.776   28.03   \n",
       "2  2017          1       1        1           3  126951.235    2.257   19.60   \n",
       "3  2017          1       1        1           3    2769.820    0.000   20.02   \n",
       "4  2017          1       1        1           4    9036.628  251.492   72.33   \n",
       "\n",
       "         Valor  Asacrificado    Nomproducto  \n",
       "0    14160.036             0           Miel  \n",
       "1  2800597.573      56247778          Carne  \n",
       "2  2488734.489             0  Ganado en pie  \n",
       "3    55451.796             0    Huevo-plato  \n",
       "4   653577.630         35932          Carne  "
      ]
     },
     "execution_count": 14,
     "metadata": {},
     "output_type": "execute_result"
    }
   ],
   "source": [
    
    "df = pd.read_csv(path, encoding='latin', error_bad_lines=False)\n",
    "data=df.copy()\n",
    "data.head()"
   ]
  },
  {
   "cell_type": "code",
   "execution_count": 15,
   "metadata": {},
   "outputs": [
    {
     "data": {
      "text/html": [
       "<div>\n",
       "<style scoped>\n",
       "    .dataframe tbody tr th:only-of-type {\n",
       "        vertical-align: middle;\n",
       "    }\n",
       "\n",
       "    .dataframe tbody tr th {\n",
       "        vertical-align: top;\n",
       "    }\n",
       "\n",
       "    .dataframe thead th {\n",
       "        text-align: right;\n",
       "    }\n",
       "</style>\n",
       "<table border=\"1\" class=\"dataframe\">\n",
       "  <thead>\n",
       "    <tr style=\"text-align: right;\">\n",
       "      <th></th>\n",
       "      <th>Anio</th>\n",
       "      <th>Cveestado</th>\n",
       "      <th>Cveddr</th>\n",
       "      <th>Cvempio</th>\n",
       "      <th>Cveespecie</th>\n",
       "      <th>Volumen</th>\n",
       "      <th>Peso</th>\n",
       "      <th>Precio</th>\n",
       "      <th>Valor</th>\n",
       "      <th>Asacrificado</th>\n",
       "      <th>Nomproducto</th>\n",
       "    </tr>\n",
       "  </thead>\n",
       "  <tbody>\n",
       "    <tr>\n",
       "      <th>0</th>\n",
       "      <td>2017</td>\n",
       "      <td>1</td>\n",
       "      <td>1</td>\n",
       "      <td>1</td>\n",
       "      <td>1</td>\n",
       "      <td>310.521</td>\n",
       "      <td>0.000</td>\n",
       "      <td>45.60</td>\n",
       "      <td>14160.036</td>\n",
       "      <td>0</td>\n",
       "      <td>Miel</td>\n",
       "    </tr>\n",
       "    <tr>\n",
       "      <th>1</th>\n",
       "      <td>2017</td>\n",
       "      <td>1</td>\n",
       "      <td>1</td>\n",
       "      <td>1</td>\n",
       "      <td>3</td>\n",
       "      <td>99912.530</td>\n",
       "      <td>1.776</td>\n",
       "      <td>28.03</td>\n",
       "      <td>2800597.573</td>\n",
       "      <td>56247778</td>\n",
       "      <td>Carne</td>\n",
       "    </tr>\n",
       "    <tr>\n",
       "      <th>2</th>\n",
       "      <td>2017</td>\n",
       "      <td>1</td>\n",
       "      <td>1</td>\n",
       "      <td>1</td>\n",
       "      <td>3</td>\n",
       "      <td>126951.235</td>\n",
       "      <td>2.257</td>\n",
       "      <td>19.60</td>\n",
       "      <td>2488734.489</td>\n",
       "      <td>0</td>\n",
       "      <td>Ganado en pie</td>\n",
       "    </tr>\n",
       "    <tr>\n",
       "      <th>3</th>\n",
       "      <td>2017</td>\n",
       "      <td>1</td>\n",
       "      <td>1</td>\n",
       "      <td>1</td>\n",
       "      <td>3</td>\n",
       "      <td>2769.820</td>\n",
       "      <td>0.000</td>\n",
       "      <td>20.02</td>\n",
       "      <td>55451.796</td>\n",
       "      <td>0</td>\n",
       "      <td>Huevo-plato</td>\n",
       "    </tr>\n",
       "    <tr>\n",
       "      <th>4</th>\n",
       "      <td>2017</td>\n",
       "      <td>1</td>\n",
       "      <td>1</td>\n",
       "      <td>1</td>\n",
       "      <td>4</td>\n",
       "      <td>9036.628</td>\n",
       "      <td>251.492</td>\n",
       "      <td>72.33</td>\n",
       "      <td>653577.630</td>\n",
       "      <td>35932</td>\n",
       "      <td>Carne</td>\n",
       "    </tr>\n",
       "  </tbody>\n",
       "</table>\n",
       "</div>"
      ],
      "text/plain": [
       "   Anio  Cveestado  Cveddr  Cvempio  Cveespecie     Volumen     Peso  Precio  \\\n",
       "0  2017          1       1        1           1     310.521    0.000   45.60   \n",
       "1  2017          1       1        1           3   99912.530    1.776   28.03   \n",
       "2  2017          1       1        1           3  126951.235    2.257   19.60   \n",
       "3  2017          1       1        1           3    2769.820    0.000   20.02   \n",
       "4  2017          1       1        1           4    9036.628  251.492   72.33   \n",
       "\n",
       "         Valor  Asacrificado    Nomproducto  \n",
       "0    14160.036             0           Miel  \n",
       "1  2800597.573      56247778          Carne  \n",
       "2  2488734.489             0  Ganado en pie  \n",
       "3    55451.796             0    Huevo-plato  \n",
       "4   653577.630         35932          Carne  "
      ]
     },
     "execution_count": 15,
     "metadata": {},
     "output_type": "execute_result"
    }
   ],
   "source": [
    "data.replace({ np.nan:0}, inplace=True)\n",
    "df.isnull().any().any()\n",
    "\n",
    "data.head()"
   ]
  },
  {
   "cell_type": "code",
   "execution_count": 16,
   "metadata": {},
   "outputs": [
    {
     "data": {
      "text/html": [
       "<div>\n",
       "<style scoped>\n",
       "    .dataframe tbody tr th:only-of-type {\n",
       "        vertical-align: middle;\n",
       "    }\n",
       "\n",
       "    .dataframe tbody tr th {\n",
       "        vertical-align: top;\n",
       "    }\n",
       "\n",
       "    .dataframe thead th {\n",
       "        text-align: right;\n",
       "    }\n",
       "</style>\n",
       "<table border=\"1\" class=\"dataframe\">\n",
       "  <thead>\n",
       "    <tr style=\"text-align: right;\">\n",
       "      <th></th>\n",
       "      <th>Anio</th>\n",
       "      <th>Cveestado</th>\n",
       "      <th>Cveddr</th>\n",
       "      <th>Cvempio</th>\n",
       "      <th>Cveespecie</th>\n",
       "      <th>Volumen</th>\n",
       "      <th>Peso</th>\n",
       "      <th>Precio</th>\n",
       "      <th>Valor</th>\n",
       "      <th>Asacrificado</th>\n",
       "      <th>Nomproducto</th>\n",
       "    </tr>\n",
       "  </thead>\n",
       "  <tbody>\n",
       "    <tr>\n",
       "      <th>0</th>\n",
       "      <td>0</td>\n",
       "      <td>1</td>\n",
       "      <td>1</td>\n",
       "      <td>1</td>\n",
       "      <td>1</td>\n",
       "      <td>310.521</td>\n",
       "      <td>0.000</td>\n",
       "      <td>45.60</td>\n",
       "      <td>14160.036</td>\n",
       "      <td>0</td>\n",
       "      <td>Miel</td>\n",
       "    </tr>\n",
       "    <tr>\n",
       "      <th>1</th>\n",
       "      <td>0</td>\n",
       "      <td>1</td>\n",
       "      <td>1</td>\n",
       "      <td>1</td>\n",
       "      <td>3</td>\n",
       "      <td>99912.530</td>\n",
       "      <td>1.776</td>\n",
       "      <td>28.03</td>\n",
       "      <td>2800597.573</td>\n",
       "      <td>56247778</td>\n",
       "      <td>Carne</td>\n",
       "    </tr>\n",
       "    <tr>\n",
       "      <th>2</th>\n",
       "      <td>0</td>\n",
       "      <td>1</td>\n",
       "      <td>1</td>\n",
       "      <td>1</td>\n",
       "      <td>3</td>\n",
       "      <td>126951.235</td>\n",
       "      <td>2.257</td>\n",
       "      <td>19.60</td>\n",
       "      <td>2488734.489</td>\n",
       "      <td>0</td>\n",
       "      <td>Ganado en pie</td>\n",
       "    </tr>\n",
       "    <tr>\n",
       "      <th>3</th>\n",
       "      <td>0</td>\n",
       "      <td>1</td>\n",
       "      <td>1</td>\n",
       "      <td>1</td>\n",
       "      <td>3</td>\n",
       "      <td>2769.820</td>\n",
       "      <td>0.000</td>\n",
       "      <td>20.02</td>\n",
       "      <td>55451.796</td>\n",
       "      <td>0</td>\n",
       "      <td>Huevo-plato</td>\n",
       "    </tr>\n",
       "    <tr>\n",
       "      <th>4</th>\n",
       "      <td>0</td>\n",
       "      <td>1</td>\n",
       "      <td>1</td>\n",
       "      <td>1</td>\n",
       "      <td>4</td>\n",
       "      <td>9036.628</td>\n",
       "      <td>251.492</td>\n",
       "      <td>72.33</td>\n",
       "      <td>653577.630</td>\n",
       "      <td>35932</td>\n",
       "      <td>Carne</td>\n",
       "    </tr>\n",
       "  </tbody>\n",
       "</table>\n",
       "</div>"
      ],
      "text/plain": [
       "   Anio  Cveestado  Cveddr  Cvempio  Cveespecie     Volumen     Peso  Precio  \\\n",
       "0     0          1       1        1           1     310.521    0.000   45.60   \n",
       "1     0          1       1        1           3   99912.530    1.776   28.03   \n",
       "2     0          1       1        1           3  126951.235    2.257   19.60   \n",
       "3     0          1       1        1           3    2769.820    0.000   20.02   \n",
       "4     0          1       1        1           4    9036.628  251.492   72.33   \n",
       "\n",
       "         Valor  Asacrificado    Nomproducto  \n",
       "0    14160.036             0           Miel  \n",
       "1  2800597.573      56247778          Carne  \n",
       "2  2488734.489             0  Ganado en pie  \n",
       "3    55451.796             0    Huevo-plato  \n",
       "4   653577.630         35932          Carne  "
      ]
     },
     "execution_count": 16,
     "metadata": {},
     "output_type": "execute_result"
    }
   ],
   "source": [
    "le = LabelEncoder() \n",
    "data['Anio']= le.fit_transform(data['Anio'])\n",
    "data.head()\n"
   ]
  },
  {
   "cell_type": "code",
   "execution_count": 17,
   "metadata": {},
   "outputs": [
    {
     "data": {
      "text/html": [
       "<div>\n",
       "<style scoped>\n",
       "    .dataframe tbody tr th:only-of-type {\n",
       "        vertical-align: middle;\n",
       "    }\n",
       "\n",
       "    .dataframe tbody tr th {\n",
       "        vertical-align: top;\n",
       "    }\n",
       "\n",
       "    .dataframe thead th {\n",
       "        text-align: right;\n",
       "    }\n",
       "</style>\n",
       "<table border=\"1\" class=\"dataframe\">\n",
       "  <thead>\n",
       "    <tr style=\"text-align: right;\">\n",
       "      <th></th>\n",
       "      <th>Anio</th>\n",
       "      <th>Cveestado</th>\n",
       "      <th>Cveddr</th>\n",
       "      <th>Cvempio</th>\n",
       "      <th>Cveespecie</th>\n",
       "      <th>Volumen</th>\n",
       "      <th>Peso</th>\n",
       "      <th>Precio</th>\n",
       "      <th>Valor</th>\n",
       "      <th>Asacrificado</th>\n",
       "    </tr>\n",
       "  </thead>\n",
       "  <tbody>\n",
       "    <tr>\n",
       "      <th>0</th>\n",
       "      <td>0.0</td>\n",
       "      <td>-2.545207</td>\n",
       "      <td>-2.24042</td>\n",
       "      <td>-0.824552</td>\n",
       "      <td>-1.356990</td>\n",
       "      <td>-0.068324</td>\n",
       "      <td>-0.568863</td>\n",
       "      <td>0.349267</td>\n",
       "      <td>-0.044655</td>\n",
       "      <td>-0.051879</td>\n",
       "    </tr>\n",
       "    <tr>\n",
       "      <th>1</th>\n",
       "      <td>0.0</td>\n",
       "      <td>-2.545207</td>\n",
       "      <td>-2.24042</td>\n",
       "      <td>-0.824552</td>\n",
       "      <td>-0.905294</td>\n",
       "      <td>10.905898</td>\n",
       "      <td>-0.553314</td>\n",
       "      <td>-0.510837</td>\n",
       "      <td>19.243434</td>\n",
       "      <td>55.024476</td>\n",
       "    </tr>\n",
       "    <tr>\n",
       "      <th>2</th>\n",
       "      <td>0.0</td>\n",
       "      <td>-2.545207</td>\n",
       "      <td>-2.24042</td>\n",
       "      <td>-0.824552</td>\n",
       "      <td>-0.905294</td>\n",
       "      <td>13.885042</td>\n",
       "      <td>-0.549103</td>\n",
       "      <td>-0.923511</td>\n",
       "      <td>17.084677</td>\n",
       "      <td>-0.051879</td>\n",
       "    </tr>\n",
       "    <tr>\n",
       "      <th>3</th>\n",
       "      <td>0.0</td>\n",
       "      <td>-2.545207</td>\n",
       "      <td>-2.24042</td>\n",
       "      <td>-0.824552</td>\n",
       "      <td>-0.905294</td>\n",
       "      <td>0.202644</td>\n",
       "      <td>-0.568863</td>\n",
       "      <td>-0.902951</td>\n",
       "      <td>0.241172</td>\n",
       "      <td>-0.051879</td>\n",
       "    </tr>\n",
       "    <tr>\n",
       "      <th>4</th>\n",
       "      <td>0.0</td>\n",
       "      <td>-2.545207</td>\n",
       "      <td>-2.24042</td>\n",
       "      <td>-0.824552</td>\n",
       "      <td>-0.679446</td>\n",
       "      <td>0.893125</td>\n",
       "      <td>1.633012</td>\n",
       "      <td>1.657782</td>\n",
       "      <td>4.381478</td>\n",
       "      <td>-0.016695</td>\n",
       "    </tr>\n",
       "  </tbody>\n",
       "</table>\n",
       "</div>"
      ],
      "text/plain": [
       "   Anio  Cveestado   Cveddr   Cvempio  Cveespecie    Volumen      Peso  \\\n",
       "0   0.0  -2.545207 -2.24042 -0.824552   -1.356990  -0.068324 -0.568863   \n",
       "1   0.0  -2.545207 -2.24042 -0.824552   -0.905294  10.905898 -0.553314   \n",
       "2   0.0  -2.545207 -2.24042 -0.824552   -0.905294  13.885042 -0.549103   \n",
       "3   0.0  -2.545207 -2.24042 -0.824552   -0.905294   0.202644 -0.568863   \n",
       "4   0.0  -2.545207 -2.24042 -0.824552   -0.679446   0.893125  1.633012   \n",
       "\n",
       "     Precio      Valor  Asacrificado  \n",
       "0  0.349267  -0.044655     -0.051879  \n",
       "1 -0.510837  19.243434     55.024476  \n",
       "2 -0.923511  17.084677     -0.051879  \n",
       "3 -0.902951   0.241172     -0.051879  \n",
       "4  1.657782   4.381478     -0.016695  "
      ]
     },
     "execution_count": 17,
     "metadata": {},
     "output_type": "execute_result"
    }
   ],
   "source": [
    "col=data.columns#toma las  columnas\n",
    "features=col.tolist() \n",
    "feature=features[:-1] \n",
    "target=features[-1]#quita Resultados\n",
    "X=data.loc[:,feature].values  \n",
    "y=data.loc[:,target].values\n",
    "#estandarizado\n",
    "sc=StandardScaler()  \n",
    "X=sc.fit_transform(X) \n",
    "pd.DataFrame(X,columns=feature).head()"
   ]
  },
  {
   "cell_type": "code",
   "execution_count": 18,
   "metadata": {},
   "outputs": [
    {
     "data": {
      "text/html": [
       "<div>\n",
       "<style scoped>\n",
       "    .dataframe tbody tr th:only-of-type {\n",
       "        vertical-align: middle;\n",
       "    }\n",
       "\n",
       "    .dataframe tbody tr th {\n",
       "        vertical-align: top;\n",
       "    }\n",
       "\n",
       "    .dataframe thead th {\n",
       "        text-align: right;\n",
       "    }\n",
       "</style>\n",
       "<table border=\"1\" class=\"dataframe\">\n",
       "  <thead>\n",
       "    <tr style=\"text-align: right;\">\n",
       "      <th></th>\n",
       "      <th>principal component 1</th>\n",
       "      <th>principal component 2</th>\n",
       "    </tr>\n",
       "  </thead>\n",
       "  <tbody>\n",
       "    <tr>\n",
       "      <th>0</th>\n",
       "      <td>2.487899</td>\n",
       "      <td>-2.390221</td>\n",
       "    </tr>\n",
       "    <tr>\n",
       "      <th>1</th>\n",
       "      <td>31.235465</td>\n",
       "      <td>27.884395</td>\n",
       "    </tr>\n",
       "    <tr>\n",
       "      <th>2</th>\n",
       "      <td>16.351889</td>\n",
       "      <td>11.889882</td>\n",
       "    </tr>\n",
       "    <tr>\n",
       "      <th>3</th>\n",
       "      <td>2.789126</td>\n",
       "      <td>-2.123032</td>\n",
       "    </tr>\n",
       "    <tr>\n",
       "      <th>4</th>\n",
       "      <td>4.909305</td>\n",
       "      <td>0.137738</td>\n",
       "    </tr>\n",
       "  </tbody>\n",
       "</table>\n",
       "</div>"
      ],
      "text/plain": [
       "   principal component 1  principal component 2\n",
       "0               2.487899              -2.390221\n",
       "1              31.235465              27.884395\n",
       "2              16.351889              11.889882\n",
       "3               2.789126              -2.123032\n",
       "4               4.909305               0.137738"
      ]
     },
     "execution_count": 18,
     "metadata": {},
     "output_type": "execute_result"
    }
   ],
   "source": [
    "#Definiendo componentes \n",
    "pca=PCA(n_components=2) \n",
    "principalComponents=pca.fit_transform(X) \n",
    "principalDf=pd.DataFrame(data=principalComponents,columns=['principal component 1','principal component 2']) \n",
    "principalDf.head()"
   ]
  },
  {
   "cell_type": "code",
   "execution_count": 19,
   "metadata": {},
   "outputs": [
    {
     "data": {
      "text/html": [
       "<div>\n",
       "<style scoped>\n",
       "    .dataframe tbody tr th:only-of-type {\n",
       "        vertical-align: middle;\n",
       "    }\n",
       "\n",
       "    .dataframe tbody tr th {\n",
       "        vertical-align: top;\n",
       "    }\n",
       "\n",
       "    .dataframe thead th {\n",
       "        text-align: right;\n",
       "    }\n",
       "</style>\n",
       "<table border=\"1\" class=\"dataframe\">\n",
       "  <thead>\n",
       "    <tr style=\"text-align: right;\">\n",
       "      <th></th>\n",
       "      <th>principal component 1</th>\n",
       "      <th>principal component 2</th>\n",
       "      <th>Nomproducto</th>\n",
       "    </tr>\n",
       "  </thead>\n",
       "  <tbody>\n",
       "    <tr>\n",
       "      <th>0</th>\n",
       "      <td>2.487899</td>\n",
       "      <td>-2.390221</td>\n",
       "      <td>Miel</td>\n",
       "    </tr>\n",
       "    <tr>\n",
       "      <th>1</th>\n",
       "      <td>31.235465</td>\n",
       "      <td>27.884395</td>\n",
       "      <td>Carne</td>\n",
       "    </tr>\n",
       "    <tr>\n",
       "      <th>2</th>\n",
       "      <td>16.351889</td>\n",
       "      <td>11.889882</td>\n",
       "      <td>Ganado en pie</td>\n",
       "    </tr>\n",
       "    <tr>\n",
       "      <th>3</th>\n",
       "      <td>2.789126</td>\n",
       "      <td>-2.123032</td>\n",
       "      <td>Huevo-plato</td>\n",
       "    </tr>\n",
       "    <tr>\n",
       "      <th>4</th>\n",
       "      <td>4.909305</td>\n",
       "      <td>0.137738</td>\n",
       "      <td>Carne</td>\n",
       "    </tr>\n",
       "  </tbody>\n",
       "</table>\n",
       "</div>"
      ],
      "text/plain": [
       "   principal component 1  principal component 2    Nomproducto\n",
       "0               2.487899              -2.390221           Miel\n",
       "1              31.235465              27.884395          Carne\n",
       "2              16.351889              11.889882  Ganado en pie\n",
       "3               2.789126              -2.123032    Huevo-plato\n",
       "4               4.909305               0.137738          Carne"
      ]
     },
     "execution_count": 19,
     "metadata": {},
     "output_type": "execute_result"
    }
   ],
   "source": [
    "finalDf=pd.concat([principalDf,data[['Nomproducto']]],axis=1)\n",
    "finalDf.head()"
   ]
  },
  {
   "cell_type": "code",
   "execution_count": 20,
   "metadata": {},
   "outputs": [
    {
     "data": {
      "text/plain": [
       "array(['Miel', 'Carne', 'Ganado en pie', 'Huevo-plato', 'Leche', 'Cera',\n",
       "       'Lana'], dtype=object)"
      ]
     },
     "execution_count": 20,
     "metadata": {},
     "output_type": "execute_result"
    }
   ],
   "source": [
    "data.Nomproducto.unique()"
   ]
  },
  {
   "cell_type": "code",
   "execution_count": 21,
   "metadata": {},
   "outputs": [
    {
     "name": "stdout",
     "output_type": "stream",
     "text": [
      "X_train shape (26691, 10)\n",
      "X_test shape (6673, 10)\n",
      "y_train shape (26691,)\n",
      "y_test shape (6673,)\n"
     ]
    }
   ],
   "source": [
    "X_train,X_test,y_train,y_test=train_test_split(X,y,test_size=.2,random_state=0)\n",
    "print('X_train shape',X_train.shape)  \n",
    "print('X_test shape',X_test.shape)   \n",
    "print('y_train shape',y_train.shape)  \n",
    "print('y_test shape',y_test.shape)"
   ]
  },
  {
   "cell_type": "code",
   "execution_count": 22,
   "metadata": {},
   "outputs": [],
   "source": [
    "X_train_original=X_train.copy()"
   ]
  },
  {
   "cell_type": "code",
   "execution_count": 23,
   "metadata": {},
   "outputs": [],
   "source": [
    "\n",
    "#fit only on Training data  \n",
    "sc.fit(X_train)   \n",
    "#Apply the transformation to both test & train data   \n",
    "X_train=sc.fit_transform(X_train)   \n",
    "X_test=sc.fit_transform(X_test)"
   ]
  },
  {
   "cell_type": "code",
   "execution_count": 27,
   "metadata": {},
   "outputs": [
    {
     "data": {
      "image/png": "[encoded data removed]",
      "text/plain": [
       "<Figure size 432x288 with 1 Axes>"
      ]
     },
     "metadata": {
      "needs_background": "light"
     },
     "output_type": "display_data"
    }
   ],
   "source": [
    "pca=PCA()  \n",
    "pca.n_components=10\n",
    "pca_data=pca.fit_transform(X_train)\n",
    "percentage_var_explained = pca.explained_variance_ratio_;  \n",
    "cum_var_explained=np.cumsum(percentage_var_explained)\n",
    "#plot PCA spectrum   \n",
    "plt.figure(1,figsize=(6,4))\n",
    "plt.clf()  \n",
    "plt.plot(cum_var_explained,linewidth=2)  \n",
    "plt.axis('tight')  \n",
    "plt.grid() \n",
    "plt.xlabel('n_components') \n",
    "plt.ylabel('Cumulative_Variance_explained')  \n",
    "plt.show()"
   ]
  },
  {
   "cell_type": "code",
   "execution_count": 28,
   "metadata": {},
   "outputs": [
    {
     "name": "stdout",
     "output_type": "stream",
     "text": [
      "if n_components= 0,   variance=22.880000\n",
      "if n_components= 1,   variance=44.190000\n",
      "if n_components= 2,   variance=56.410000\n",
      "if n_components= 3,   variance=68.090000\n",
      "if n_components= 4,   variance=78.740000\n",
      "if n_components= 5,   variance=88.600000\n",
      "if n_components= 6,   variance=97.360000\n",
      "if n_components= 7,   variance=99.620000\n",
      "if n_components= 8,   variance=100.000000\n",
      "if n_components= 9,   variance=100.000000\n"
     ]
    }
   ],
   "source": [
    "pca=PCA()  \n",
    "pca.n_components=10\n",
    "pca_data=pca.fit_transform(X_train)  \n",
    "# look at explainded variance of PCA components \n",
    "exp_var_cumsum=pd.Series(np.round(pca.explained_variance_ratio_.cumsum(),4)*100)  \n",
    "for index,var in enumerate(exp_var_cumsum):  \n",
    "    print('if n_components= %d,   variance=%f' %(index,np.round(var,3)))"
   ]
  },
  {
   "cell_type": "code",
   "execution_count": 29,
   "metadata": {},
   "outputs": [
    {
     "name": "stdout",
     "output_type": "stream",
     "text": [
      "Number of components to explain 90% Variance is 7\n"
     ]
    }
   ],
   "source": [
    "pca=PCA(.90)  \n",
    "pca.fit(X_train)  \n",
    "print('Number of components to explain 90% Variance is',pca.n_components_)"
   ]
  },
  {
   "cell_type": "code",
   "execution_count": 30,
   "metadata": {
    "scrolled": true
   },
   "outputs": [
    {
     "name": "stdout",
     "output_type": "stream",
     "text": [
      "shape of PCA data (26691, 2)\n"
     ]
    }
   ],
   "source": [
    "pca=PCA(n_components=2) \n",
    "pca_data_vis=pca.fit_transform(X_train) \n",
    "print('shape of PCA data',pca_data_vis.shape)"
   ]
  },
  {
   "cell_type": "code",
   "execution_count": 31,
   "metadata": {},
   "outputs": [
    {
     "name": "stderr",
     "output_type": "stream",
     "text": [
      "C:\\Users\\hades\\Anaconda3\\lib\\site-packages\\seaborn\\axisgrid.py:230: UserWarning: The `size` paramter has been renamed to `height`; please update your code.\n",
      "  warnings.warn(msg, UserWarning)\n"
     ]
    },
    {
     "data": {
      "image/png": "[encoded data removed]",
      "text/plain": [
       "<Figure size 540.75x432 with 1 Axes>"
      ]
     },
     "metadata": {
      "needs_background": "light"
     },
     "output_type": "display_data"
    }
   ],
   "source": [
    "pca_data_vis = np.vstack((pca_data_vis.T,y_train)).T\n",
    "pca_vis_df = pd.DataFrame(data=pca_data_vis,columns=(\"1st_principal\",\"2nd_principal\",\"label\"))  \n",
    "sns.FacetGrid(pca_vis_df,hue=\"label\",size=6).map(plt.scatter,'1st_principal','2nd_principal').add_legend()\n",
    "plt.show()"
   ]
  },
  {
   "cell_type": "code",
   "execution_count": 32,
   "metadata": {},
   "outputs": [
    {
     "name": "stderr",
     "output_type": "stream",
     "text": [
      "C:\\Users\\hades\\Anaconda3\\lib\\site-packages\\sklearn\\linear_model\\logistic.py:432: FutureWarning: Default solver will be changed to 'lbfgs' in 0.22. Specify a solver to silence this warning.\n",
      "  FutureWarning)\n",
      "C:\\Users\\hades\\Anaconda3\\lib\\site-packages\\sklearn\\linear_model\\logistic.py:469: FutureWarning: Default multi_class will be changed to 'auto' in 0.22. Specify the multi_class option to silence this warning.\n",
      "  \"this warning.\", FutureWarning)\n"
     ]
    }
   ],
   "source": [
    "pca=PCA(.90) \n",
    "pca.fit(X_train) \n",
    "X_train=pca.transform(X_train) \n",
    "X_test=pca.transform(X_test)\n",
    "from sklearn.linear_model  import LogisticRegression  \n",
    "LogReg=LogisticRegression(class_weight='balanced')  \n",
    "LogReg.fit(X_train,y_train)\n",
    "y_pred=LogReg.predict(X_test)"
   ]
  },
  {
   "cell_type": "code",
   "execution_count": 33,
   "metadata": {},
   "outputs": [
    {
     "name": "stdout",
     "output_type": "stream",
     "text": [
      "Accuracy: 0.7887007343024127\n",
      "F1 score: 0.8015668543373726\n",
      "Recall: 0.7887007343024127\n",
      "Precision: 0.8413700680222599\n",
      "\n",
      " clasification report:\n",
      "                precision    recall  f1-score   support\n",
      "\n",
      "        Carne       0.86      0.77      0.81      2492\n",
      "         Cera       0.84      0.80      0.82       231\n",
      "Ganado en pie       0.87      0.70      0.78      2570\n",
      "  Huevo-plato       0.38      1.00      0.55       444\n",
      "         Lana       0.93      0.98      0.95       105\n",
      "        Leche       0.99      0.99      0.99       536\n",
      "         Miel       0.85      0.88      0.87       295\n",
      "\n",
      "     accuracy                           0.79      6673\n",
      "    macro avg       0.82      0.88      0.82      6673\n",
      " weighted avg       0.84      0.79      0.80      6673\n",
      "\n",
      "\n",
      " confussion matrix:\n",
      " [[1929    0  267  292    3    1    0]\n",
      " [   0  184    0    0    0    0   47]\n",
      " [ 315    0 1810  433    5    7    0]\n",
      " [   0    0    1  443    0    0    0]\n",
      " [   2    0    0    0  103    0    0]\n",
      " [   0    0    3    0    0  533    0]\n",
      " [   0   34    0    0    0    0  261]]\n"
     ]
    }
   ],
   "source": [
    "from sklearn.metrics import precision_score,recall_score,confusion_matrix,classification_report,accuracy_score,f1_score\n",
    "print('Accuracy:',accuracy_score(y_test,y_pred))  \n",
    "print('F1 score:',f1_score(y_test,y_pred,average='weighted'))   \n",
    "print('Recall:',recall_score(y_test,y_pred,average='weighted'))   \n",
    "print('Precision:',precision_score(y_test,y_pred,average='weighted'))  \n",
    "print('\\n clasification report:\\n',classification_report(y_test,y_pred))  \n",
    "print('\\n confussion matrix:\\n',confusion_matrix(y_test,y_pred))"
   ]
  },
  {
   "cell_type": "code",
   "execution_count": null,
   "metadata": {},
   "outputs": [],
   "source": []
  }
 ],
 "metadata": {
  "kernelspec": {
   "display_name": "Python 3",
   "language": "python",
   "name": "python3"
  },
  "language_info": {
   "codemirror_mode": {
    "name": "ipython",
    "version": 3
   },
   "file_extension": ".py",
   "mimetype": "text/x-python",
   "name": "python",
   "nbconvert_exporter": "python",
   "pygments_lexer": "ipython3",
   "version": "3.7.1"
  }
 },
 "nbformat": 4,
 "nbformat_minor": 4
}
