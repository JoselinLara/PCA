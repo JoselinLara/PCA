{
 "cells": [
  {
   "cell_type": "code",
   "execution_count": 66,
   "metadata": {},
   "outputs": [],
   "source": [
    "#importamos librerías\n",
    "import pandas as pd\n",
    "import numpy as np\n",
    "import matplotlib.pyplot as plt\n",
    "%matplotlib inline\n",
    "import seaborn as sns\n",
    "from sklearn.decomposition import PCA,KernelPCA\n",
    "from sklearn.preprocessing import StandardScaler\n",
    "from sklearn.model_selection import train_test_split\n",
    "from sklearn.datasets import fetch_mldata,make_circles\n",
    "from sklearn import metrics"
   ]
  },
  {
   "cell_type": "code",
   "execution_count": 9,
   "metadata": {
    "scrolled": true
   },
   "outputs": [
    {
     "data": {
      "text/html": [
       "<div>\n",
       "<style scoped>\n",
       "    .dataframe tbody tr th:only-of-type {\n",
       "        vertical-align: middle;\n",
       "    }\n",
       "\n",
       "    .dataframe tbody tr th {\n",
       "        vertical-align: top;\n",
       "    }\n",
       "\n",
       "    .dataframe thead th {\n",
       "        text-align: right;\n",
       "    }\n",
       "</style>\n",
       "<table border=\"1\" class=\"dataframe\">\n",
       "  <thead>\n",
       "    <tr style=\"text-align: right;\">\n",
       "      <th></th>\n",
       "      <th>Clave Entidad</th>\n",
       "      <th>Clave Jurisdicción</th>\n",
       "      <th>Clave Municipio</th>\n",
       "      <th>Edad</th>\n",
       "      <th>Resultado</th>\n",
       "    </tr>\n",
       "  </thead>\n",
       "  <tbody>\n",
       "    <tr>\n",
       "      <th>0</th>\n",
       "      <td>1</td>\n",
       "      <td>1</td>\n",
       "      <td>1</td>\n",
       "      <td>57</td>\n",
       "      <td>Altamente Sugestiva a Malignidad</td>\n",
       "    </tr>\n",
       "    <tr>\n",
       "      <th>1</th>\n",
       "      <td>1</td>\n",
       "      <td>1</td>\n",
       "      <td>1</td>\n",
       "      <td>57</td>\n",
       "      <td>Altamente Sugestiva a Malignidad</td>\n",
       "    </tr>\n",
       "    <tr>\n",
       "      <th>2</th>\n",
       "      <td>1</td>\n",
       "      <td>1</td>\n",
       "      <td>1</td>\n",
       "      <td>57</td>\n",
       "      <td>Probablemente Benigna</td>\n",
       "    </tr>\n",
       "    <tr>\n",
       "      <th>3</th>\n",
       "      <td>1</td>\n",
       "      <td>1</td>\n",
       "      <td>1</td>\n",
       "      <td>57</td>\n",
       "      <td>Evaluación Adicional</td>\n",
       "    </tr>\n",
       "    <tr>\n",
       "      <th>4</th>\n",
       "      <td>1</td>\n",
       "      <td>1</td>\n",
       "      <td>1</td>\n",
       "      <td>57</td>\n",
       "      <td>Altamente Sugestiva a Malignidad</td>\n",
       "    </tr>\n",
       "  </tbody>\n",
       "</table>\n",
       "</div>"
      ],
      "text/plain": [
       "   Clave Entidad  Clave Jurisdicción  Clave Municipio  Edad  \\\n",
       "0              1                   1                1    57   \n",
       "1              1                   1                1    57   \n",
       "2              1                   1                1    57   \n",
       "3              1                   1                1    57   \n",
       "4              1                   1                1    57   \n",
       "\n",
       "                          Resultado  \n",
       "0  Altamente Sugestiva a Malignidad  \n",
       "1  Altamente Sugestiva a Malignidad  \n",
       "2             Probablemente Benigna  \n",
       "3              Evaluación Adicional  \n",
       "4  Altamente Sugestiva a Malignidad  "
      ]
     },
     "execution_count": 9,
     "metadata": {},
     "output_type": "execute_result"
    }
   ],
   "source": [
    "#https://datos.gob.mx/busca/dataset/cancer-de-la-mujer-sicam-cancer-de-mama\n",
    "path = 'C:\\\\Users\\\\hades\\\\Downloads\\\\dataset práctica 1\\\\Mastografías 2017.csv'\n",
    "daf = pd.read_csv(path, encoding='latin', error_bad_lines=False)\n",
    "daf.head()"
   ]
  },
  {
   "cell_type": "code",
   "execution_count": 69,
   "metadata": {},
   "outputs": [
    {
     "data": {
      "text/html": [
       "<div>\n",
       "<style scoped>\n",
       "    .dataframe tbody tr th:only-of-type {\n",
       "        vertical-align: middle;\n",
       "    }\n",
       "\n",
       "    .dataframe tbody tr th {\n",
       "        vertical-align: top;\n",
       "    }\n",
       "\n",
       "    .dataframe thead th {\n",
       "        text-align: right;\n",
       "    }\n",
       "</style>\n",
       "<table border=\"1\" class=\"dataframe\">\n",
       "  <thead>\n",
       "    <tr style=\"text-align: right;\">\n",
       "      <th></th>\n",
       "      <th>Clave Entidad</th>\n",
       "      <th>Clave Jurisdicción</th>\n",
       "      <th>Clave Municipio</th>\n",
       "      <th>Edad</th>\n",
       "    </tr>\n",
       "  </thead>\n",
       "  <tbody>\n",
       "    <tr>\n",
       "      <th>0</th>\n",
       "      <td>-2.149656</td>\n",
       "      <td>-0.816753</td>\n",
       "      <td>-1.022534</td>\n",
       "      <td>0.826087</td>\n",
       "    </tr>\n",
       "    <tr>\n",
       "      <th>1</th>\n",
       "      <td>-2.149656</td>\n",
       "      <td>-0.816753</td>\n",
       "      <td>-1.022534</td>\n",
       "      <td>0.826087</td>\n",
       "    </tr>\n",
       "    <tr>\n",
       "      <th>2</th>\n",
       "      <td>-2.149656</td>\n",
       "      <td>-0.816753</td>\n",
       "      <td>-1.022534</td>\n",
       "      <td>0.826087</td>\n",
       "    </tr>\n",
       "    <tr>\n",
       "      <th>3</th>\n",
       "      <td>-2.149656</td>\n",
       "      <td>-0.816753</td>\n",
       "      <td>-1.022534</td>\n",
       "      <td>0.826087</td>\n",
       "    </tr>\n",
       "    <tr>\n",
       "      <th>4</th>\n",
       "      <td>-2.149656</td>\n",
       "      <td>-0.816753</td>\n",
       "      <td>-1.022534</td>\n",
       "      <td>0.826087</td>\n",
       "    </tr>\n",
       "  </tbody>\n",
       "</table>\n",
       "</div>"
      ],
      "text/plain": [
       "   Clave Entidad  Clave Jurisdicción  Clave Municipio      Edad\n",
       "0      -2.149656           -0.816753        -1.022534  0.826087\n",
       "1      -2.149656           -0.816753        -1.022534  0.826087\n",
       "2      -2.149656           -0.816753        -1.022534  0.826087\n",
       "3      -2.149656           -0.816753        -1.022534  0.826087\n",
       "4      -2.149656           -0.816753        -1.022534  0.826087"
      ]
     },
     "execution_count": 69,
     "metadata": {},
     "output_type": "execute_result"
    }
   ],
   "source": [
    "col=daf.columns#toma las  columnas\n",
    "features=col.tolist() \n",
    "feature=features[:-1] \n",
    "target=features[-1]#quita Resultados\n",
    "X=daf.loc[:,feature].values  \n",
    "y=daf.loc[:,target].values\n",
    "#estandarizado\n",
    "sc=StandardScaler()  \n",
    "X=sc.fit_transform(X) \n",
    "pd.DataFrame(X,columns=feature).head()\n"
   ]
  },
  {
   "cell_type": "code",
   "execution_count": 57,
   "metadata": {},
   "outputs": [
    {
     "data": {
      "text/html": [
       "<div>\n",
       "<style scoped>\n",
       "    .dataframe tbody tr th:only-of-type {\n",
       "        vertical-align: middle;\n",
       "    }\n",
       "\n",
       "    .dataframe tbody tr th {\n",
       "        vertical-align: top;\n",
       "    }\n",
       "\n",
       "    .dataframe thead th {\n",
       "        text-align: right;\n",
       "    }\n",
       "</style>\n",
       "<table border=\"1\" class=\"dataframe\">\n",
       "  <thead>\n",
       "    <tr style=\"text-align: right;\">\n",
       "      <th></th>\n",
       "      <th>principal component 1</th>\n",
       "      <th>principal component 2</th>\n",
       "    </tr>\n",
       "  </thead>\n",
       "  <tbody>\n",
       "    <tr>\n",
       "      <th>0</th>\n",
       "      <td>-2.304692</td>\n",
       "      <td>-0.543068</td>\n",
       "    </tr>\n",
       "    <tr>\n",
       "      <th>1</th>\n",
       "      <td>-2.304692</td>\n",
       "      <td>-0.543068</td>\n",
       "    </tr>\n",
       "    <tr>\n",
       "      <th>2</th>\n",
       "      <td>-2.304692</td>\n",
       "      <td>-0.543068</td>\n",
       "    </tr>\n",
       "    <tr>\n",
       "      <th>3</th>\n",
       "      <td>-2.304692</td>\n",
       "      <td>-0.543068</td>\n",
       "    </tr>\n",
       "    <tr>\n",
       "      <th>4</th>\n",
       "      <td>-2.304692</td>\n",
       "      <td>-0.543068</td>\n",
       "    </tr>\n",
       "  </tbody>\n",
       "</table>\n",
       "</div>"
      ],
      "text/plain": [
       "   principal component 1  principal component 2\n",
       "0              -2.304692              -0.543068\n",
       "1              -2.304692              -0.543068\n",
       "2              -2.304692              -0.543068\n",
       "3              -2.304692              -0.543068\n",
       "4              -2.304692              -0.543068"
      ]
     },
     "execution_count": 57,
     "metadata": {},
     "output_type": "execute_result"
    }
   ],
   "source": [
    "#Definiendo componentes \n",
    "pca=PCA(n_components=2) \n",
    "principalComponents=pca.fit_transform(X) \n",
    "principalDf=pd.DataFrame(data=principalComponents,columns=['principal component 1','principal component 2']) \n",
    "principalDf.head()"
   ]
  },
  {
   "cell_type": "code",
   "execution_count": 26,
   "metadata": {},
   "outputs": [
    {
     "data": {
      "text/html": [
       "<div>\n",
       "<style scoped>\n",
       "    .dataframe tbody tr th:only-of-type {\n",
       "        vertical-align: middle;\n",
       "    }\n",
       "\n",
       "    .dataframe tbody tr th {\n",
       "        vertical-align: top;\n",
       "    }\n",
       "\n",
       "    .dataframe thead th {\n",
       "        text-align: right;\n",
       "    }\n",
       "</style>\n",
       "<table border=\"1\" class=\"dataframe\">\n",
       "  <thead>\n",
       "    <tr style=\"text-align: right;\">\n",
       "      <th></th>\n",
       "      <th>principal component 1</th>\n",
       "      <th>principal component 2</th>\n",
       "      <th>Resultado</th>\n",
       "    </tr>\n",
       "  </thead>\n",
       "  <tbody>\n",
       "    <tr>\n",
       "      <th>0</th>\n",
       "      <td>-2.304692</td>\n",
       "      <td>-0.543068</td>\n",
       "      <td>Altamente Sugestiva a Malignidad</td>\n",
       "    </tr>\n",
       "    <tr>\n",
       "      <th>1</th>\n",
       "      <td>-2.304692</td>\n",
       "      <td>-0.543068</td>\n",
       "      <td>Altamente Sugestiva a Malignidad</td>\n",
       "    </tr>\n",
       "    <tr>\n",
       "      <th>2</th>\n",
       "      <td>-2.304692</td>\n",
       "      <td>-0.543068</td>\n",
       "      <td>Probablemente Benigna</td>\n",
       "    </tr>\n",
       "    <tr>\n",
       "      <th>3</th>\n",
       "      <td>-2.304692</td>\n",
       "      <td>-0.543068</td>\n",
       "      <td>Evaluación Adicional</td>\n",
       "    </tr>\n",
       "    <tr>\n",
       "      <th>4</th>\n",
       "      <td>-2.304692</td>\n",
       "      <td>-0.543068</td>\n",
       "      <td>Altamente Sugestiva a Malignidad</td>\n",
       "    </tr>\n",
       "  </tbody>\n",
       "</table>\n",
       "</div>"
      ],
      "text/plain": [
       "   principal component 1  principal component 2  \\\n",
       "0              -2.304692              -0.543068   \n",
       "1              -2.304692              -0.543068   \n",
       "2              -2.304692              -0.543068   \n",
       "3              -2.304692              -0.543068   \n",
       "4              -2.304692              -0.543068   \n",
       "\n",
       "                          Resultado  \n",
       "0  Altamente Sugestiva a Malignidad  \n",
       "1  Altamente Sugestiva a Malignidad  \n",
       "2             Probablemente Benigna  \n",
       "3              Evaluación Adicional  \n",
       "4  Altamente Sugestiva a Malignidad  "
      ]
     },
     "execution_count": 26,
     "metadata": {},
     "output_type": "execute_result"
    }
   ],
   "source": [
    "finalDf=pd.concat([principalDf,daf[['Resultado']]],axis=1)\n",
    "finalDf.head()"
   ]
  },
  {
   "cell_type": "code",
   "execution_count": 59,
   "metadata": {},
   "outputs": [
    {
     "data": {
      "image/png": "[encoded data removed]",
      "text/plain": [
       "<Figure size 576x576 with 1 Axes>"
      ]
     },
     "metadata": {
      "needs_background": "light"
     },
     "output_type": "display_data"
    }
   ],
   "source": [
    "fig=plt.figure(figsize=(8,8))  \n",
    "ax=fig.add_subplot(1,1,1)  \n",
    "ax.set_xlabel('Principal Component 1',fontsize = 15)  \n",
    "ax.set_ylabel('Principal Component 2',fontsize = 15)  \n",
    "ax.set_title('2 PCA Components',fontsize=20)  \n",
    "\n",
    "targets=['Altamente Sugestiva a Malignidad', 'Probablemente Benigna',\n",
    "       'Evaluación Adicional', 'Benigna', 'Anormalidad Sospechosa',\n",
    "       'Riesgo Intermedio de Malignidad', 'Baja Sospecha de Malignidad',\n",
    "       'Negativa', 'Riesgo Moderado de Malignidad']\n",
    "colors=['r', 'g', 'b', 'c', 'm', 'y', 'k', 'tab:brown','m','p']  \n",
    "for target,color in zip(targets,colors):    \n",
    "    indicesToKeep = finalDf['Resultado'] == target  \n",
    "    ax.scatter(finalDf.loc[indicesToKeep,'principal component 1'],\n",
    "        finalDf.loc[indicesToKeep,'principal component 2'],c=color,s=50)\n",
    "ax.legend(targets)  \n",
    "ax.grid()"
   ]
  },
  {
   "cell_type": "code",
   "execution_count": 60,
   "metadata": {},
   "outputs": [
    {
     "data": {
      "text/plain": [
       "array([0.30971561, 0.28066606])"
      ]
     },
     "execution_count": 60,
     "metadata": {},
     "output_type": "execute_result"
    }
   ],
   "source": [
    "explained_variance = pca.explained_variance_ratio_\n",
    "explained_variance"
   ]
  },
  {
   "cell_type": "code",
   "execution_count": 70,
   "metadata": {},
   "outputs": [
    {
     "data": {
      "image/png": "[encoded data removed]",
      "text/plain": [
       "<Figure size 720x720 with 1 Axes>"
      ]
     },
     "metadata": {
      "needs_background": "light"
     },
     "output_type": "display_data"
    }
   ],
   "source": [
    ")"
   ]
  },
  {
   "cell_type": "code",
   "execution_count": null,
   "metadata": {},
   "outputs": [],
   "source": []
  },
  {
   "cell_type": "code",
   "execution_count": null,
   "metadata": {},
   "outputs": [],
   "source": []
  },
  {
   "cell_type": "code",
   "execution_count": null,
   "metadata": {},
   "outputs": [],
   "source": []
  },
  {
   "cell_type": "code",
   "execution_count": null,
   "metadata": {},
   "outputs": [],
   "source": []
  }
 ],
 "metadata": {
  "kernelspec": {
   "display_name": "Python 3",
   "language": "python",
   "name": "python3"
  },
  "language_info": {
   "codemirror_mode": {
    "name": "ipython",
    "version": 3
   },
   "file_extension": ".py",
   "mimetype": "text/x-python",
   "name": "python",
   "nbconvert_exporter": "python",
   "pygments_lexer": "ipython3",
   "version": "3.7.3"
  }
 },
 "nbformat": 4,
 "nbformat_minor": 2
}
